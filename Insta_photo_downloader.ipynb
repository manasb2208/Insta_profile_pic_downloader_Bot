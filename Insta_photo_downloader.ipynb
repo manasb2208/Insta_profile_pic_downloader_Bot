{
 "cells": [
  {
   "cell_type": "code",
   "execution_count": 5,
   "metadata": {},
   "outputs": [],
   "source": [
    "cd = \"C:\\\\Users\\\\Manas\\\\Desktop\\\\chromedriver.exe\" #chorome driver path \n",
    "from selenium import webdriver\n",
    "import time"
   ]
  },
  {
   "cell_type": "code",
   "execution_count": 6,
   "metadata": {},
   "outputs": [
    {
     "name": "stdout",
     "output_type": "stream",
     "text": [
      "Enter instagram id : manasb2208\n"
     ]
    }
   ],
   "source": [
    "insta_url = \"https://www.instagram.com/\" #insta url as string\n",
    "user_handle = input('Enter instagram id : ')\n",
    "url = insta_url + user_handle\n",
    "driver = webdriver.Chrome(cd)\n",
    "driver.get(url)\n",
    "time.sleep(5)"
   ]
  },
  {
   "cell_type": "code",
   "execution_count": 7,
   "metadata": {},
   "outputs": [],
   "source": [
    "filename = user_handle + '.jpg'"
   ]
  },
  {
   "cell_type": "code",
   "execution_count": 8,
   "metadata": {},
   "outputs": [
    {
     "name": "stdout",
     "output_type": "stream",
     "text": [
      "https://instagram.fccu3-1.fna.fbcdn.net/v/t51.2885-19/s150x150/64369936_888910654801666_3478588145828626432_n.jpg?tp=1&_nc_ht=instagram.fccu3-1.fna.fbcdn.net&_nc_ohc=EfC-htc8LNgAX-Jszjt&ccb=7-4&oh=66924308a35f6506b543225d8c716d9c&oe=60887069&_nc_sid=7bff83\n"
     ]
    },
    {
     "data": {
      "text/plain": [
       "('manasb2208.jpg', <http.client.HTTPMessage at 0xfd99b1a760>)"
      ]
     },
     "execution_count": 8,
     "metadata": {},
     "output_type": "execute_result"
    }
   ],
   "source": [
    "import urllib.request #library file for url fetching\n",
    "try:\n",
    "\timage = driver.find_element_by_xpath('//*[@id=\"react-root\"]/section/main/div/header/div/div/span/img')\n",
    "except:\n",
    "    #for private accounts\n",
    "\timage = driver.find_element_by_xpath('//*[@id=\"react-root\"]/section/main/div/header/div/div/div/button/img')\n",
    "imagesrc = image.get_attribute('src')\n",
    "print(imagesrc)\n",
    "urllib.request.urlretrieve(imagesrc,filename)"
   ]
  },
  {
   "cell_type": "code",
   "execution_count": null,
   "metadata": {},
   "outputs": [],
   "source": []
  }
 ],
 "metadata": {
  "kernelspec": {
   "display_name": "Python 3",
   "language": "python",
   "name": "python3"
  },
  "language_info": {
   "codemirror_mode": {
    "name": "ipython",
    "version": 3
   },
   "file_extension": ".py",
   "mimetype": "text/x-python",
   "name": "python",
   "nbconvert_exporter": "python",
   "pygments_lexer": "ipython3",
   "version": "3.8.5"
  }
 },
 "nbformat": 4,
 "nbformat_minor": 4
}
